{
 "cells": [
  {
   "cell_type": "code",
   "execution_count": null,
   "id": "b44fa7bc",
   "metadata": {},
   "outputs": [],
   "source": [
    "# libraries\n",
    "import matplotlib.pyplot as plt\n",
    "from nilearn.connectome import ConnectivityMeasure\n",
    "from nilearn.maskers import NiftiLabelsMasker\n",
    "from nilearn import datasets\n",
    "from nilearn import plotting\n",
    "import nibabel as nib\n",
    "import numpy as  np\n",
    "import os\n",
    "from numpy import loadtxt\n",
    "import pyriemann\n",
    "from scipy.stats import ks_2samp\n",
    "import pandas\n",
    "import sys"
   ]
  },
  {
   "cell_type": "code",
   "execution_count": null,
   "id": "67194459",
   "metadata": {},
   "outputs": [],
   "source": [
    "# subj in each UIUC group\n",
    "#TINN 14 subs = ['218','216','150','276','130','132','274','135','136','286','292','182','233','157']\n",
    "#HLOS 16 subs = ['285','284','191','298','201','230','243','250','253','270','271','273','226','189','299','125']\n",
    "#CTRL 18 subs = ['200','169','168','167','166','199','220','258','259','126','261','123','122','120','117','113','275','115']\n",
    "#TNHL 37 subs = ['131','140','257','277','279','280','282','108','106','293','105','129','256','247','146','184','187','188','174','163','197','162','160','205','255','207','213','219','222','223','154','227','153','152','246','176','208']"
   ]
  },
  {
   "cell_type": "code",
   "execution_count": null,
   "id": "4a460eb0",
   "metadata": {},
   "outputs": [],
   "source": [
    "# downloading pearson fc matrices for UIUC data (2 scans from ses A and 2 from ses B)\n",
    "dataset = datasets.fetch_atlas_schaefer_2018(n_rois=400, yeo_networks=17, resolution_mm=2, data_dir=None, base_url=None, resume=True, verbose=1)\n",
    "atlas_filename = dataset.maps\n",
    "masker = NiftiLabelsMasker(labels_img=atlas_filename, standardize=True)\n",
    "correlation_measure = ConnectivityMeasure(kind='correlation')\n",
    "subs = ['205','255','207','213','219','222','223','154','227','153','152','246','176','208','102']\n",
    "sess = ['A', 'B']\n",
    "\n",
    "for sub in range(0,50):\n",
    "    for ses in range(0,2):\n",
    "        os.chdir('/data/UIUC/derivatives/fmriprep/sub-' + subs[sub] + '/ses-' + sess[ses] + '/func')\n",
    "        if ses == 0:\n",
    "            for pt in range(1,3):\n",
    "                img = nib.load('sub-' + subs[sub] + '_ses-' + sess[ses] + '_task-rest_run-' + str(pt) + '_space-MNI152NLin2009cAsym_desc-preproc_bold.nii.gz')\n",
    "                if pt == 1:\n",
    "                    run1 = masker.fit_transform(img)\n",
    "                    correlation_matrix1 = correlation_measure.fit_transform([run1])[0]\n",
    "                elif pt == 2:\n",
    "                    run2 = masker.fit_transform(img)          \n",
    "                    correlation_matrix2 = correlation_measure.fit_transform([run2])[0]\n",
    "        elif ses == 1:\n",
    "            for pt in range(1,3):\n",
    "                img = nib.load('sub-' + subs[sub] + '_ses-' + sess[ses] + '_task-rest_run-' + str(pt) + '_space-MNI152NLin2009cAsym_desc-preproc_bold.nii.gz')\n",
    "                if pt == 1:\n",
    "                    run1 = masker.fit_transform(img)\n",
    "                    correlation_matrix3 = correlation_measure.fit_transform([run1])[0]\n",
    "                elif pt == 2:\n",
    "                    run2 = masker.fit_transform(img)          \n",
    "                    correlation_matrix4 = correlation_measure.fit_transform([run2])[0]\n",
    "    os.chdir('/data/hcp_working_folder/tdhore2/riemann2/fc/TNHL')\n",
    "    np.savez('fc_' + subs[sub], Arun1 = correlation_matrix1, Arun2 = correlation_matrix2, Brun1 = correlation_matrix3, Brun2 = correlation_matrix4)"
   ]
  },
  {
   "cell_type": "code",
   "execution_count": 56,
   "id": "d919cb7d",
   "metadata": {},
   "outputs": [],
   "source": [
    "# riemann ingroup UIUC data\n",
    "subs1 = ['131','140','257','277','279','280','282','108','106','293','105','129','256','247','146','184','187','188','174','163','197','162','160','205','255','207','213','219','222','223','154','227','153','152','246','176','208']\n",
    "riemann_dist = np.zeros((4*37,4*37))\n",
    "filenames = ['Arun1', 'Arun2', 'Brun1', 'Brun2']\n",
    "os.chdir('/data/hcp_working_folder/tdhore2/riemann2/fc/TNHL')\n",
    "for sub in range(0,37):\n",
    "    sub1 = subs1[sub]\n",
    "    npzfile1 = np.load('fc_' + sub1 + '.npz')\n",
    "    for subb in range(0,37):\n",
    "        sub2 = subs1[subb]\n",
    "        npzfile2 = np.load('fc_' + sub2 + '.npz')\n",
    "        for pt in range(0,4):\n",
    "            for ptt in range(0,4):\n",
    "                x = pyriemann.utils.distance.distance_riemann(npzfile1[filenames[pt]], npzfile2[filenames[ptt]])\n",
    "                riemann_dist[4*sub+pt, 4*subb+ptt] = x\n",
    "os.chdir('/data/hcp_working_folder/tdhore2/riemann2/')\n",
    "np.savez('riemann_inngroup_TNHL', riemann = riemann_dist)"
   ]
  },
  {
   "cell_type": "code",
   "execution_count": 51,
   "id": "63385039",
   "metadata": {},
   "outputs": [],
   "source": [
    "#riemann dist b/w groups UIUC data\n",
    "subs1 = ['131','140','257','277','279','280','282','108','106','293','105','129','256','247','146','184','187','188','174','163','197','162','160','205','255','207','213','219','222','223','154','227','153','152','246','176','208']\n",
    "subs2 = ['200','169','168','167','166','199','220','258','259','126','261','123','122','120','117','113','275','115']\n",
    "riemann_dist = np.zeros((4*37,4*18))\n",
    "filenames = ['Arun1', 'Arun2', 'Brun1', 'Brun2']\n",
    "for sub in range(0,37):\n",
    "    os.chdir('/data/hcp_working_folder/tdhore2/riemann2/fc/TNHL')\n",
    "    sub1 = subs1[sub]\n",
    "    npzfile1 = np.load('fc_' + sub1 + '.npz')\n",
    "    for subb in range(0,18):\n",
    "        os.chdir('/data/hcp_working_folder/tdhore2/riemann2/fc/CTRL')\n",
    "        sub2 = subs2[subb]\n",
    "        npzfile2 = np.load('fc_' + sub2 + '.npz')\n",
    "        for pt in range(0,4):\n",
    "            for ptt in range(0,4):\n",
    "                x = pyriemann.utils.distance.distance_riemann(npzfile1[filenames[pt]], npzfile2[filenames[ptt]])\n",
    "                riemann_dist[4*sub+pt, 4*subb+ptt] = x\n",
    "os.chdir('/data/hcp_working_folder/tdhore2/riemann2/')\n",
    "np.savez('riemann_betweengroup_TNHL_CTRL', riemann = riemann_dist)"
   ]
  },
  {
   "cell_type": "code",
   "execution_count": 17,
   "id": "27453596",
   "metadata": {},
   "outputs": [
    {
     "data": {
      "text/plain": [
       "KstestResult(statistic=0.6128444444444444, pvalue=1.0)"
      ]
     },
     "execution_count": 17,
     "metadata": {},
     "output_type": "execute_result"
    }
   ],
   "source": [
    "# KS test\n",
    "os.chdir('/data/hcp_working_folder/tdhore2/riemann2')\n",
    "npzfile1 = np.load('riemann_betweengroup_HCP_CTRL.npz')\n",
    "run1 = npzfile1['riemann']\n",
    "run1 = run1.flatten()\n",
    "os.chdir('/data/hcp_working_folder/tdhore2/')\n",
    "npzfile2 = np.load('riemann_inngroup_HCP.npz')\n",
    "run2 = npzfile2['riemann']\n",
    "run2 = run2.flatten()\n",
    "ks_2samp(run1, run2)"
   ]
  },
  {
   "cell_type": "code",
   "execution_count": null,
   "id": "5cc19424",
   "metadata": {},
   "outputs": [],
   "source": [
    "# downloading pearson fc matrices for HCP data (4 scans/subj)\n",
    "dataset = datasets.fetch_atlas_schaefer_2018(n_rois=400, yeo_networks=17, resolution_mm=2, data_dir=None, base_url=None, resume=True, verbose=1)\n",
    "atlas_filename = dataset.maps\n",
    "masker = NiftiLabelsMasker(labels_img=atlas_filename, standardize=True)\n",
    "subs = ['469961','475855','479762','480141','481042','481951','485757','486759','495255','497865','499566','500222','506234','510225','510326','512835','513130','513736','516742','517239','518746','519647','519950','520228','522434','523032','525541','529549','529953','530635','531536','531940','536647','541640','541943','545345','547046','548250','552241','552544','553344','555348','555651','555954','557857','558657','558960','559457','561242','561444']\n",
    "files = ['REST1_LR', 'REST1_RL', 'REST2_LR', \"REST2_RL\"]\n",
    "correlation_measure = ConnectivityMeasure(kind='correlation')\n",
    "\n",
    "for sub in range(0,50):\n",
    "    os.chdir('/data/hcp_working_folder/tdhore2/HCP/subj/' + subs[sub] + '/func')\n",
    "\n",
    "    for pt in range(0,4):\n",
    "        img = nib.load('rfMRI_' + files[pt] + '.nii.gz')\n",
    "        if pt == 0:\n",
    "            LR1 = masker.fit_transform(img)\n",
    "            correlation_matrix1 = correlation_measure.fit_transform([LR1])[0]\n",
    "        elif pt == 1:\n",
    "            RL1 = masker.fit_transform(img)          \n",
    "            correlation_matrix2 = correlation_measure.fit_transform([RL1])[0]\n",
    "        elif pt == 2:\n",
    "            LR2 = masker.fit_transform(img)\n",
    "            correlation_matrix3 = correlation_measure.fit_transform([LR2])[0]\n",
    "        else: \n",
    "            RL2 = masker.fit_transform(img)\n",
    "            correlation_matrix4 = correlation_measure.fit_transform([RL2])[0]\n",
    "    os.chdir('/data/hcp_working_folder/tdhore2/HCP/fc')\n",
    "    np.savez('fc_' + subs[sub], LR1 = correlation_matrix1, RL1 = correlation_matrix2, LR2 = correlation_matrix3, RL2 = correlation_matrix4)"
   ]
  },
  {
   "cell_type": "code",
   "execution_count": 10,
   "id": "592ed637",
   "metadata": {},
   "outputs": [],
   "source": [
    "# HCP riemann ingroup\n",
    "subs1 = ['469961','475855','479762','480141','481042','481951','485757','486759','495255','497865','499566','500222','506234','510225','510326','512835','513130','513736','516742','517239','518746','519647','519950','520228','522434']\n",
    "riemann_dist = np.zeros((4*25,4*25))\n",
    "filenames = ['LR1', 'LR2', 'RL1', 'RL2']\n",
    "os.chdir('/data/hcp_working_folder/tdhore2/HCP/fc')\n",
    "for sub in range(0,25):\n",
    "    sub1 = subs1[sub]\n",
    "    npzfile1 = np.load('fc_' + sub1 + '.npz')\n",
    "    for subb in range(0,25):\n",
    "        sub2 = subs1[subb]\n",
    "        npzfile2 = np.load('fc_' + sub2 + '.npz')\n",
    "        for pt in range(0,4):\n",
    "            for ptt in range(0,4):\n",
    "                x = pyriemann.utils.distance.distance_riemann(npzfile1[filenames[pt]], npzfile2[filenames[ptt]])\n",
    "                riemann_dist[4*sub+pt, 4*subb+ptt] = x\n",
    "os.chdir('/data/hcp_working_folder/tdhore2')\n",
    "np.savez('riemann_inngroup_HCP', riemann = riemann_dist)"
   ]
  },
  {
   "cell_type": "code",
   "execution_count": null,
   "id": "65752aaf",
   "metadata": {},
   "outputs": [],
   "source": [
    "# HCP+UIUC riemann b/w group\n",
    "subs1 = ['131','140','257','277','279','280','282','108','106','293','105','129','256','247','146','184','187','188','174','163','197','162','160','205','255','207','213','219','222','223','154','227','153','152','246','176','208']\n",
    "subs2 = ['106319','123117','211922','178142','562446','704238','180230','168240','129331','419239','154330','137128','559053','106824','356948','212823','151425','289555','103111','119126','192136','524135','100307','765056','102109']\n",
    "riemann_dist = np.zeros((4*37,4*25))\n",
    "filenames1 = ['Arun1', 'Arun2', 'Brun1', 'Brun2']\n",
    "filenames2 = ['LR1', 'LR2', 'RL1', 'RL2']\n",
    "for sub in range(0,37):\n",
    "    os.chdir('/data/hcp_working_folder/tdhore2/riemann2/fc/TNHL')\n",
    "    sub1 = subs1[sub]\n",
    "    npzfile1 = np.load('fc_' + sub1 + '.npz')\n",
    "    for subb in range(0,25):\n",
    "        os.chdir('/data/hcp_working_folder/tdhore2/riemann2/HCP_fc')\n",
    "        sub2 = subs2[subb]\n",
    "        npzfile2 = np.load('fc_' + sub2 + '.npz')\n",
    "        for pt in range(0,4):\n",
    "            for ptt in range(0,4):\n",
    "                x = pyriemann.utils.distance.distance_riemann(npzfile1[filenames1[pt]], npzfile2[filenames2[ptt]])\n",
    "                riemann_dist[4*sub+pt, 4*subb+ptt] = x\n",
    "os.chdir('/data/hcp_working_folder/tdhore2/riemann2')\n",
    "np.savez('riemann_betweengroup_HCP_TNHL', riemann = riemann_dist)"
   ]
  },
  {
   "cell_type": "code",
   "execution_count": 16,
   "id": "ada481a4",
   "metadata": {},
   "outputs": [],
   "source": [
    "# HCP+UIUC riemann b/w group\n",
    "subs1 = ['469961','475855','479762','480141','481042','481951','485757','486759','495255','497865','499566','500222','506234','510225','510326','512835','513130','513736','516742','517239','518746','519647','519950','520228','522434']\n",
    "subs2 = ['200','169','168','167','166','199','220','258','259','126','261','123','122','120','117','113','275','115']\n",
    "riemann_dist = np.zeros((4*25,4*25))\n",
    "filenames1 = ['Arun1', 'Arun2', 'Brun1', 'Brun2']\n",
    "filenames2 = ['LR1', 'LR2', 'RL1', 'RL2']\n",
    "for sub in range(0,25):\n",
    "    os.chdir('/data/hcp_working_folder/tdhore2/HCP/fc')\n",
    "    sub1 = subs1[sub]\n",
    "    npzfile1 = np.load('fc_' + sub1 + '.npz')\n",
    "    for subb in range(0,18):\n",
    "        os.chdir('/data/hcp_working_folder/tdhore2/riemann2/fc/CTRL')\n",
    "        sub2 = subs2[subb]\n",
    "        npzfile2 = np.load('fc_' + sub2 + '.npz')\n",
    "        for pt in range(0,4):\n",
    "            for ptt in range(0,4):\n",
    "                x = pyriemann.utils.distance.distance_riemann(npzfile1[filenames2[pt]], npzfile2[filenames1[ptt]])\n",
    "                riemann_dist[4*sub+pt, 4*subb+ptt] = x\n",
    "os.chdir('/data/hcp_working_folder/tdhore2')\n",
    "np.savez('riemann_betweengroup_HCP_CTRL', riemann = riemann_dist)"
   ]
  }
 ],
 "metadata": {
  "kernelspec": {
   "display_name": "Python 3 (ipykernel)",
   "language": "python",
   "name": "python3"
  },
  "language_info": {
   "codemirror_mode": {
    "name": "ipython",
    "version": 3
   },
   "file_extension": ".py",
   "mimetype": "text/x-python",
   "name": "python",
   "nbconvert_exporter": "python",
   "pygments_lexer": "ipython3",
   "version": "3.9.12"
  }
 },
 "nbformat": 4,
 "nbformat_minor": 5
}
