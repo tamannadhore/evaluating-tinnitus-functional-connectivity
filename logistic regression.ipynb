{
 "cells": [
  {
   "cell_type": "code",
   "execution_count": 1,
   "id": "6f64d543",
   "metadata": {},
   "outputs": [],
   "source": [
    "# libraries\n",
    "import numpy as np\n",
    "import matplotlib.pyplot as plt\n",
    "import pandas as pd\n",
    "import os\n",
    "from sklearn.model_selection import train_test_split\n",
    "from sklearn.linear_model import LogisticRegression\n",
    "from sklearn import metrics\n",
    "import matplotlib.pyplot as plt\n",
    "import sys\n",
    "from sklearn.preprocessing import KBinsDiscretizer\n",
    "import seaborn as sn"
   ]
  },
  {
   "cell_type": "code",
   "execution_count": 57,
   "id": "7237bb8e",
   "metadata": {},
   "outputs": [],
   "source": [
    "# training with 1 subject (test for how matrix should be set up)\n",
    "os.chdir('/data/hcp_working_folder/tdhore2/riemann2/fc/TINN')\n",
    "npzfile1 = np.load('fc_218.npz')\n",
    "a=npzfile1['Arun1']\n",
    "os.chdir('/data/hcp_working_folder/tdhore2/riemann2/fc/HLOS')\n",
    "npzfile1 = np.load('fc_285.npz')\n",
    "b=npzfile1['Arun1']\n",
    "x=a[np.triu_indices(400, k = 1)]\n",
    "y=b[np.triu_indices(400, k = 1)]\n",
    "z=np.vstack((x, y))\n",
    "x_train= z\n",
    "y_train=[[1],[2]]\n",
    "model = LinearRegression()\n",
    "model.fit(x_train, y_train)\n",
    "npzfile1 = np.load('fc_284.npz')\n",
    "b= npzfile1['Arun1']\n",
    "y=b[np.triu_indices(400, k = 1)]\n",
    "y=y.reshape(1,79800)\n",
    "model.predict((y))"
   ]
  },
  {
   "cell_type": "code",
   "execution_count": 2,
   "id": "8d0e0527",
   "metadata": {},
   "outputs": [],
   "source": [
    "# creating a logistic regression matrix\n",
    "subs1 = ['218','216','150','276','130','132','274','135','136','286','292','182','233','157']\n",
    "subs2 = ['285','284','191','298','201','230','243','250','253','270','271','273','226','189','299','125']\n",
    "subs3 = ['200','169','168','167','166','199','220','258','259','126','261','123','122','120','117','113','275','115']\n",
    "subs4 = ['131','140','257','277','279','280','282','108','106','293','105','129','256','247','146','184','187','188','174','163','197','162','160','205','255','207','213','219','222','223','154','227','153','152','246','176','208'] \n",
    "filenames = ['Arun1', 'Arun2', 'Brun1', 'Brun2']\n",
    "fc_array = np.zeros([(14+16+18+37)*4, 79800])\n",
    "count = 0\n",
    "for sub in range(0,14):\n",
    "    os.chdir('/data/hcp_working_folder/tdhore2/riemann2/fc/TINN')\n",
    "    sub1 = subs1[sub]\n",
    "    npzfile1 = np.load('fc_' + sub1 + '.npz')\n",
    "    for pt in range(0,4):\n",
    "        array = npzfile1[filenames[pt]]\n",
    "        array=array[np.triu_indices(400, k = 1)]\n",
    "        fc_array[count] = array\n",
    "        count = count + 1\n",
    "\n",
    "for sub in range(0,16):\n",
    "    os.chdir('/data/hcp_working_folder/tdhore2/riemann2/fc/HLOS')\n",
    "    sub2 = subs2[sub]\n",
    "    npzfile2 = np.load('fc_' + sub2 + '.npz')\n",
    "    for pt in range(0,4):\n",
    "        array = npzfile2[filenames[pt]]\n",
    "        array=array[np.triu_indices(400, k = 1)]\n",
    "        fc_array[count] = array\n",
    "        count = count + 1\n",
    "        \n",
    "for sub in range(0,18):\n",
    "    os.chdir('/data/hcp_working_folder/tdhore2/riemann2/fc/CTRL')\n",
    "    sub3 = subs3[sub]\n",
    "    npzfile3 = np.load('fc_' + sub3 + '.npz')\n",
    "    for pt in range(0,4):\n",
    "        array = npzfile3[filenames[pt]]\n",
    "        array=array[np.triu_indices(400, k = 1)]\n",
    "        fc_array[count] = array\n",
    "        count = count + 1\n",
    "        \n",
    "for sub in range(0,37):\n",
    "    os.chdir('/data/hcp_working_folder/tdhore2/riemann2/fc/TNHL')\n",
    "    sub4 = subs4[sub]\n",
    "    npzfile4 = np.load('fc_' + sub4 + '.npz')\n",
    "    for pt in range(0,4):\n",
    "        array = npzfile4[filenames[pt]]\n",
    "        array=array[np.triu_indices(400, k = 1)]\n",
    "        fc_array[count] = array\n",
    "        count = count + 1"
   ]
  },
  {
   "cell_type": "code",
   "execution_count": 3,
   "id": "3a71f47c",
   "metadata": {},
   "outputs": [
    {
     "name": "stdout",
     "output_type": "stream",
     "text": [
      "(340, 1)\n"
     ]
    }
   ],
   "source": [
    "# assembling the matrix\n",
    "array1 = np.ones([14*4,1])\n",
    "array2 = 2*np.ones([16*4,1])\n",
    "array3 = 3*np.ones([18*4,1])\n",
    "array4 = 4*np.ones([37*4,1])\n",
    "name_array = np.vstack((array1, array2, array3, array4))\n",
    "np.reshape(name_array, [340,])\n",
    "print(np.shape(name_array))"
   ]
  },
  {
   "cell_type": "code",
   "execution_count": 30,
   "id": "5b290774",
   "metadata": {},
   "outputs": [],
   "source": [
    "# creating the test/train split\n",
    "X_train,X_test,y_train,y_test = train_test_split(fc_array,name_array,test_size=0.05,random_state=1)  "
   ]
  },
  {
   "cell_type": "code",
   "execution_count": null,
   "id": "e90d2121",
   "metadata": {},
   "outputs": [],
   "source": [
    "#instantiate the model\n",
    "log_regression = LogisticRegression(solver='liblinear', penalty='l2')\n",
    "\n",
    "#fit the model using the training data\n",
    "log_regression.fit(X_train,y_train)\n",
    "\n",
    "#use model to make predictions on test data\n",
    "y_pred = log_regression.predict(X_test)"
   ]
  },
  {
   "cell_type": "code",
   "execution_count": 32,
   "id": "f2bdf04f",
   "metadata": {},
   "outputs": [
    {
     "data": {
      "image/png": "[encoded data removed]",
      "text/plain": [
       "<Figure size 432x288 with 2 Axes>"
      ]
     },
     "metadata": {
      "needs_background": "light"
     },
     "output_type": "display_data"
    }
   ],
   "source": [
    "# plotting confusion matrix\n",
    "cnf_matrix = metrics.confusion_matrix(y_test, y_pred)\n",
    "cnf_matrix\n",
    "df_cm = pd.DataFrame(cnf_matrix, index = [i for i in ['TINN','HLOS','CTRL','TNHL']],\n",
    "                  columns = [i for i in ['TINN','HLOS','CTRL','TNHL']])\n",
    "ax= plt.subplot()\n",
    "sn.heatmap(df_cm, annot=True, fmt='g', ax=ax);  #annot=True to annotate cells, ftm='g' to disable scientific notation\n",
    "\n",
    "# labels, title and ticks\n",
    "ax.set_xlabel('Predicted');ax.set_ylabel('Actual'); \n",
    "ax.set_title('Confusion Matrix'); "
   ]
  },
  {
   "cell_type": "code",
   "execution_count": 33,
   "id": "1b5a6959",
   "metadata": {},
   "outputs": [
    {
     "name": "stdout",
     "output_type": "stream",
     "text": [
      "Accuracy: 0.8823529411764706\n"
     ]
    }
   ],
   "source": [
    "# printing accuracy\n",
    "print(\"Accuracy:\",metrics.accuracy_score(y_test, y_pred))"
   ]
  },
  {
   "cell_type": "code",
   "execution_count": null,
   "id": "bb90f6b4",
   "metadata": {},
   "outputs": [],
   "source": [
    "# K Bins (did not work)\n",
    "enc = KBinsDiscretizer(n_bins=4, encode=\"ordinal\", strategy='kmeans')\n",
    "enc.fit(fc_array)"
   ]
  },
  {
   "cell_type": "code",
   "execution_count": 34,
   "id": "eac213cc",
   "metadata": {},
   "outputs": [
    {
     "name": "stdout",
     "output_type": "stream",
     "text": [
      "[3 3 3 3 0 0 3 3 0 1 0 3 0 0 3 1 1 3 0 1 2 1 0 3 0 0 0 0 3 2 3 3 0 3 0 0 1\n",
      " 0 1 3 0 3 0 3 3 0 3 0 1 1 0 3 1 3 3 3 0 3 1 0 3 1 1 0 0 0 3 1 0 0 0 0 0 3\n",
      " 0 0 0 0 0 0 3 0 3 3 3 3 0 1 3 3 0 3 3 2 0 0 0 0 3 3 3 3 0 3 0 3 0 3 3 0 0\n",
      " 3 0 3 0 0 3 3 0 3 3 3 0 1 2 3 3 1 0 3 0 3 0 3 3 0 0 3 0 3 3 1 0 3 3 0 0 2\n",
      " 0 0 3 0 0 3 0 0 3 0 0 1 0 0 3 3 1 2 3 3 0 0 3 3 0 0 3 3 0 1 3 0 3 0 1 1 3\n",
      " 0 0 3 1 3 3 0 3 0 3 0 2 3 3 3 0 3 0 3 0 3 3 3 3 2 0 0 0 3 0 3 3 3 3 0 3 1\n",
      " 3 1 3 0 1 3 0 3 3 1 3 3 3 3 3 3 1 3 0 0 1 1 0 3 0 3 1 2 1 0 0 3 0 0 3 0 3\n",
      " 1 0 3 0 0 3 1 0 0 3 0 3 0 3 0 3 3 3 3 1 0 0 3 0 3 3 3 0 3 3 0 3 3 3 0 3 0\n",
      " 3 1 0 0 3 3 1 3 1 0 0 3 3 0 3 0 1 0 3 1 0 1 1 3 3 3 3]\n",
      "[3 0 0 3 0 3 0 3 3 1 0 3 0 1 3 0 1]\n"
     ]
    }
   ],
   "source": [
    "# K Means\n",
    "import numpy as np\n",
    "import matplotlib.pyplot as pyplot\n",
    "from sklearn.cluster import KMeans\n",
    "from sklearn.preprocessing import scale\n",
    "\n",
    "model = KMeans(n_clusters=4)\n",
    "\n",
    "model = model.fit(scale(X_train)) # data is your training data\n",
    "\n",
    "print(model.labels_) # prints labels for clusters. you can map to meaningful labels\n",
    "z =model.predict(scale(X_test)) # test is your data to predict the cluster\n"
   ]
  },
  {
   "cell_type": "code",
   "execution_count": 88,
   "id": "b82e67a8",
   "metadata": {},
   "outputs": [
    {
     "ename": "MemoryError",
     "evalue": "Unable to allocate 7.88 TiB for an array with shape (340, 3184139700) and data type float64",
     "output_type": "error",
     "traceback": [
      "\u001b[0;31m---------------------------------------------------------------------------\u001b[0m",
      "\u001b[0;31mMemoryError\u001b[0m                               Traceback (most recent call last)",
      "Input \u001b[0;32mIn [88]\u001b[0m, in \u001b[0;36m<cell line: 5>\u001b[0;34m()\u001b[0m\n\u001b[1;32m      2\u001b[0m polynomial_converter \u001b[38;5;241m=\u001b[39m PolynomialFeatures(degree\u001b[38;5;241m=\u001b[39m\u001b[38;5;241m2\u001b[39m,include_bias\u001b[38;5;241m=\u001b[39m\u001b[38;5;28;01mFalse\u001b[39;00m)\n\u001b[1;32m      3\u001b[0m \u001b[38;5;66;03m# Converter \"fits\" to data, in this case, reads in every X column\u001b[39;00m\n\u001b[1;32m      4\u001b[0m \u001b[38;5;66;03m# Then it \"transforms\" and ouputs the new polynomial data\u001b[39;00m\n\u001b[0;32m----> 5\u001b[0m poly_features \u001b[38;5;241m=\u001b[39m \u001b[43mpolynomial_converter\u001b[49m\u001b[38;5;241;43m.\u001b[39;49m\u001b[43mfit_transform\u001b[49m\u001b[43m(\u001b[49m\u001b[43mfc_array\u001b[49m\u001b[43m)\u001b[49m\n\u001b[1;32m      6\u001b[0m poly_features\u001b[38;5;241m.\u001b[39mshape\n",
      "File \u001b[0;32m~/miniconda3/envs/hcp_env/lib/python3.9/site-packages/sklearn/base.py:867\u001b[0m, in \u001b[0;36mTransformerMixin.fit_transform\u001b[0;34m(self, X, y, **fit_params)\u001b[0m\n\u001b[1;32m    863\u001b[0m \u001b[38;5;66;03m# non-optimized default implementation; override when a better\u001b[39;00m\n\u001b[1;32m    864\u001b[0m \u001b[38;5;66;03m# method is possible for a given clustering algorithm\u001b[39;00m\n\u001b[1;32m    865\u001b[0m \u001b[38;5;28;01mif\u001b[39;00m y \u001b[38;5;129;01mis\u001b[39;00m \u001b[38;5;28;01mNone\u001b[39;00m:\n\u001b[1;32m    866\u001b[0m     \u001b[38;5;66;03m# fit method of arity 1 (unsupervised transformation)\u001b[39;00m\n\u001b[0;32m--> 867\u001b[0m     \u001b[38;5;28;01mreturn\u001b[39;00m \u001b[38;5;28;43mself\u001b[39;49m\u001b[38;5;241;43m.\u001b[39;49m\u001b[43mfit\u001b[49m\u001b[43m(\u001b[49m\u001b[43mX\u001b[49m\u001b[43m,\u001b[49m\u001b[43m \u001b[49m\u001b[38;5;241;43m*\u001b[39;49m\u001b[38;5;241;43m*\u001b[39;49m\u001b[43mfit_params\u001b[49m\u001b[43m)\u001b[49m\u001b[38;5;241;43m.\u001b[39;49m\u001b[43mtransform\u001b[49m\u001b[43m(\u001b[49m\u001b[43mX\u001b[49m\u001b[43m)\u001b[49m\n\u001b[1;32m    868\u001b[0m \u001b[38;5;28;01melse\u001b[39;00m:\n\u001b[1;32m    869\u001b[0m     \u001b[38;5;66;03m# fit method of arity 2 (supervised transformation)\u001b[39;00m\n\u001b[1;32m    870\u001b[0m     \u001b[38;5;28;01mreturn\u001b[39;00m \u001b[38;5;28mself\u001b[39m\u001b[38;5;241m.\u001b[39mfit(X, y, \u001b[38;5;241m*\u001b[39m\u001b[38;5;241m*\u001b[39mfit_params)\u001b[38;5;241m.\u001b[39mtransform(X)\n",
      "File \u001b[0;32m~/miniconda3/envs/hcp_env/lib/python3.9/site-packages/sklearn/preprocessing/_polynomial.py:432\u001b[0m, in \u001b[0;36mPolynomialFeatures.transform\u001b[0;34m(self, X)\u001b[0m\n\u001b[1;32m    428\u001b[0m     XP \u001b[38;5;241m=\u001b[39m sparse\u001b[38;5;241m.\u001b[39mhstack(columns, dtype\u001b[38;5;241m=\u001b[39mX\u001b[38;5;241m.\u001b[39mdtype)\u001b[38;5;241m.\u001b[39mtocsc()\n\u001b[1;32m    429\u001b[0m \u001b[38;5;28;01melse\u001b[39;00m:\n\u001b[1;32m    430\u001b[0m     \u001b[38;5;66;03m# Do as if _min_degree = 0 and cut down array after the\u001b[39;00m\n\u001b[1;32m    431\u001b[0m     \u001b[38;5;66;03m# computation, i.e. use _n_out_full instead of n_output_features_.\u001b[39;00m\n\u001b[0;32m--> 432\u001b[0m     XP \u001b[38;5;241m=\u001b[39m \u001b[43mnp\u001b[49m\u001b[38;5;241;43m.\u001b[39;49m\u001b[43mempty\u001b[49m\u001b[43m(\u001b[49m\n\u001b[1;32m    433\u001b[0m \u001b[43m        \u001b[49m\u001b[43mshape\u001b[49m\u001b[38;5;241;43m=\u001b[39;49m\u001b[43m(\u001b[49m\u001b[43mn_samples\u001b[49m\u001b[43m,\u001b[49m\u001b[43m \u001b[49m\u001b[38;5;28;43mself\u001b[39;49m\u001b[38;5;241;43m.\u001b[39;49m\u001b[43m_n_out_full\u001b[49m\u001b[43m)\u001b[49m\u001b[43m,\u001b[49m\u001b[43m \u001b[49m\u001b[43mdtype\u001b[49m\u001b[38;5;241;43m=\u001b[39;49m\u001b[43mX\u001b[49m\u001b[38;5;241;43m.\u001b[39;49m\u001b[43mdtype\u001b[49m\u001b[43m,\u001b[49m\u001b[43m \u001b[49m\u001b[43morder\u001b[49m\u001b[38;5;241;43m=\u001b[39;49m\u001b[38;5;28;43mself\u001b[39;49m\u001b[38;5;241;43m.\u001b[39;49m\u001b[43morder\u001b[49m\n\u001b[1;32m    434\u001b[0m \u001b[43m    \u001b[49m\u001b[43m)\u001b[49m\n\u001b[1;32m    436\u001b[0m     \u001b[38;5;66;03m# What follows is a faster implementation of:\u001b[39;00m\n\u001b[1;32m    437\u001b[0m     \u001b[38;5;66;03m# for i, comb in enumerate(combinations):\u001b[39;00m\n\u001b[1;32m    438\u001b[0m     \u001b[38;5;66;03m#     XP[:, i] = X[:, comb].prod(1)\u001b[39;00m\n\u001b[0;32m   (...)\u001b[0m\n\u001b[1;32m    448\u001b[0m \n\u001b[1;32m    449\u001b[0m     \u001b[38;5;66;03m# degree 0 term\u001b[39;00m\n\u001b[1;32m    450\u001b[0m     \u001b[38;5;28;01mif\u001b[39;00m \u001b[38;5;28mself\u001b[39m\u001b[38;5;241m.\u001b[39minclude_bias:\n",
      "\u001b[0;31mMemoryError\u001b[0m: Unable to allocate 7.88 TiB for an array with shape (340, 3184139700) and data type float64"
     ]
    }
   ],
   "source": [
    "# polynomial\n",
    "from sklearn.preprocessing import PolynomialFeatures\n",
    "polynomial_converter = PolynomialFeatures(degree=2,include_bias=False)\n",
    "# Converter \"fits\" to data, in this case, reads in every X column\n",
    "# Then it \"transforms\" and ouputs the new polynomial data\n",
    "poly_features = polynomial_converter.fit_transform(fc_array)\n",
    "poly_features.shape"
   ]
  }
 ],
 "metadata": {
  "kernelspec": {
   "display_name": "Python 3 (ipykernel)",
   "language": "python",
   "name": "python3"
  },
  "language_info": {
   "codemirror_mode": {
    "name": "ipython",
    "version": 3
   },
   "file_extension": ".py",
   "mimetype": "text/x-python",
   "name": "python",
   "nbconvert_exporter": "python",
   "pygments_lexer": "ipython3",
   "version": "3.9.12"
  }
 },
 "nbformat": 4,
 "nbformat_minor": 5
}
