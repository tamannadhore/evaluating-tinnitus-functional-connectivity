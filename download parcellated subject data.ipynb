{
 "cells": [
  {
   "cell_type": "code",
   "execution_count": null,
   "id": "5a2fafd7",
   "metadata": {},
   "outputs": [],
   "source": [
    "from nilearn.maskers import NiftiLabelsMasker\n",
    "from nilearn import datasets\n",
    "import nibabel as nib\n",
    "import numpy as  np\n",
    "import os"
   ]
  },
  {
   "cell_type": "code",
   "execution_count": null,
   "id": "0182681d",
   "metadata": {},
   "outputs": [],
   "source": [
    "# download and save subject data with atlas parcellations\n",
    "dataset = datasets.fetch_atlas_schaefer_2018(n_rois=400, yeo_networks=17, resolution_mm=2, data_dir=None, base_url=None, resume=True, verbose=1)\n",
    "atlas_filename = dataset.maps\n",
    "labels = dataset.labels\n",
    "masker = NiftiLabelsMasker(labels_img=atlas_filename, standardize=True)\n",
    "subs = ['154431','154532','154734','154835','154936','155635','155938','156031','156233','156334','156435','156536','156637','157336','157437','157942','158035','158136','158338','158540','158843','159138','159239','159340','159441','159744','160123','160729','160830','161327','161630','161731','161832',\n",
    "'162026','162228','162329','162733','162935','163129','163331','163432','163836','164030','164131','164636','164939','165032','165436','165638','165840','165941','166438','166640','167036','167238','167440','167743','168139','168745','168947','169040','169343',\n",
    "'169444','169545','169949','170631','171330','171532','171633','172029','172130','172332','172433','172534','172938','173334','173435','173536',\n",
    "'173637','173738','173839','173940','174437','174841','175035','175136']\n",
    "files = ['REST1_LR', 'REST1_RL', 'REST2_LR', \"REST2_RL\"]\n",
    "\n",
    "for sub in range(0,100):\n",
    "    os.chdir('/data/hcp_working_folder/tdhore2/subj/' + subs[sub] + '/func')\n",
    "\n",
    "    for pt in range(0,4):\n",
    "        img = nib.load('rfMRI_' + files[pt] + '.nii.gz')\n",
    "        if pt == 0:\n",
    "            LR1 = masker.fit_transform(img)\n",
    "        elif pt == 1:\n",
    "            RL1 = masker.fit_transform(img)\n",
    "        elif pt == 2:\n",
    "            LR2 = masker.fit_transform(img)\n",
    "        else: \n",
    "            RL2 = masker.fit_transform(img)\n",
    "    os.chdir('/data/hcp_working_folder/tdhore2/ts')\n",
    "    np.savez('ts_' + subs[sub], LR1 = LR1, RL1 = RL1, LR2 = LR2, RL2 = RL2)"
   ]
  }
 ],
 "metadata": {
  "kernelspec": {
   "display_name": "Python 3 (ipykernel)",
   "language": "python",
   "name": "python3"
  },
  "language_info": {
   "codemirror_mode": {
    "name": "ipython",
    "version": 3
   },
   "file_extension": ".py",
   "mimetype": "text/x-python",
   "name": "python",
   "nbconvert_exporter": "python",
   "pygments_lexer": "ipython3",
   "version": "3.9.12"
  }
 },
 "nbformat": 4,
 "nbformat_minor": 5
}
